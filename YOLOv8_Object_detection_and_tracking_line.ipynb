{
  "cells": [
    {
      "cell_type": "code",
      "execution_count": null,
      "metadata": {
        "id": "McbXXAGAImPc"
      },
      "outputs": [],
      "source": [
        "pip install ultralytics"
      ]
    },
    {
      "cell_type": "code",
      "execution_count": null,
      "metadata": {
        "id": "7iTD-SpZMgnW"
      },
      "outputs": [],
      "source": [
        "from ultralytics import YOLO\n",
        "import numpy as np"
      ]
    },
    {
      "cell_type": "code",
      "execution_count": null,
      "metadata": {
        "colab": {
          "base_uri": "https://localhost:8080/"
        },
        "id": "saJBEwlnIvh5",
        "outputId": "6096f5b0-f7b4-48da-80bf-cf28fbebab12"
      },
      "outputs": [
        {
          "output_type": "stream",
          "name": "stdout",
          "text": [
            "Drive already mounted at /content/drive; to attempt to forcibly remount, call drive.mount(\"/content/drive\", force_remount=True).\n"
          ]
        }
      ],
      "source": [
        "## connecting to the google drive\n",
        "from google.colab import drive\n",
        "drive.mount('/content/drive')"
      ]
    },
    {
      "cell_type": "code",
      "execution_count": null,
      "metadata": {
        "id": "kqSCxgt7JV7a"
      },
      "outputs": [],
      "source": [
        "def calculate_midpoint(box_coordinates):\n",
        "    x_min, y_min, x_max, y_max = box_coordinates\n",
        "    x_mid = (x_min + x_max) / 2\n",
        "    y_mid = (y_min + y_max) / 2\n",
        "    return x_mid, y_mid"
      ]
    },
    {
      "cell_type": "markdown",
      "source": [
        "## Tracking Ball and handling oclusion"
      ],
      "metadata": {
        "id": "OwjaQZJh2hT2"
      }
    },
    {
      "cell_type": "code",
      "source": [
        "import os\n",
        "import cv2\n",
        "import numpy as np\n",
        "from google.colab.patches import cv2_imshow\n",
        "\n",
        "def draw_trajectory(video_path, yolo_model):\n",
        "    # Initialize the video capture object\n",
        "    output_video_path = \"/content/drive/MyDrive/CV/cricket_segmentation/cricket_segmentation/vid2/annotated_video3.mp4\"\n",
        "\n",
        "    video_capture = cv2.VideoCapture(video_path)\n",
        "\n",
        "    # Get the width and height of the video\n",
        "    frame_width = int(video_capture.get(cv2.CAP_PROP_FRAME_WIDTH))\n",
        "    frame_height = int(video_capture.get(cv2.CAP_PROP_FRAME_HEIGHT))\n",
        "\n",
        "    # Define the codec and create VideoWriter object\n",
        "    fourcc = cv2.VideoWriter_fourcc(*'mp4v')\n",
        "\n",
        "    # Initialize the video writer object\n",
        "    out = cv2.VideoWriter(output_video_path, fourcc, 30.0, (frame_width, frame_height))\n",
        "\n",
        "    # Initialize the list of midpoints\n",
        "    midpoints = []\n",
        "\n",
        "    # Create a list of classes\n",
        "    class_names = ['ball']\n",
        "\n",
        "    # Loop over the frames in the video\n",
        "    while True:\n",
        "        # Read the frame from the video capture object\n",
        "        success, frame = video_capture.read()\n",
        "\n",
        "        # If the frame is not successfully read, break from the loop\n",
        "        if not success:\n",
        "            break\n",
        "\n",
        "        # Find the midpoint of the detected ball\n",
        "        result = yolo_model.predict(frame, classes=32, save = True, max_det=1,conf=0.15)\n",
        "        coordinates = result[0].boxes.xyxy.cpu().tolist()\n",
        "        midpoint = None\n",
        "        if len(coordinates) != 0:\n",
        "          midpoint = calculate_midpoint(coordinates[0])\n",
        "\n",
        "        # If the ball is detected for the first time, add the midpoint to the list of midpoints\n",
        "        if midpoint is not None:\n",
        "            if len(midpoints) == 0:\n",
        "                print(\"Mid point added for the first time\")\n",
        "                midpoints.append(midpoint)\n",
        "        # If the ball has been detected in previous frames, add the midpoint to the list of midpoints and connect it to the previous midpoint\n",
        "            else:\n",
        "              if len(midpoints) > 0:\n",
        "                  midpoints.append(midpoint)\n",
        "                  # for i in range(1, len(midpoints)):\n",
        "                  #   previous_midpoint = midpoints[i - 1]\n",
        "                  #   cv2.line(frame, (int(previous_midpoint[0]),int(previous_midpoint[1])),(int(midpoints[i][0]),int(midpoints[i][1])), (0, 255, 0), thickness=8)\n",
        "\n",
        "        if len(midpoints) > 0:\n",
        "          for i in range(1, len(midpoints)):\n",
        "            previous_midpoint = midpoints[i - 1]\n",
        "            cv2.line(frame, (int(previous_midpoint[0]),int(previous_midpoint[1])),(int(midpoints[i][0]),int(midpoints[i][1])), (0, 255, 0), thickness=8)\n",
        "\n",
        "        # Write the frame to the video writer object\n",
        "        out.write(frame)\n",
        "\n",
        "        # Display the frame\n",
        "        cv2_imshow(frame)\n",
        "\n",
        "        # If the user presses `q`, break from the loop\n",
        "        if cv2.waitKey(1) & 0xFF == ord(\"q\"):\n",
        "            break\n",
        "\n",
        "    # Release the video capture object and video writer object\n",
        "    video_capture.release()\n",
        "    out.release()\n",
        "\n",
        "if __name__ == '__main__':\n",
        "    # Draw the trajectory of the cricket ball in the video\n",
        "    model = YOLO('yolov8x.pt')\n",
        "\n",
        "    draw_trajectory('/content/drive/MyDrive/CV/cricket_segmentation/cricket_segmentation/vid2/test8.mp4', model)\n"
      ],
      "metadata": {
        "id": "2yEBP_SkuHrL"
      },
      "execution_count": null,
      "outputs": []
    },
    {
      "cell_type": "code",
      "execution_count": null,
      "metadata": {
        "id": "_MEaxWsXA_YC"
      },
      "outputs": [],
      "source": []
    }
  ],
  "metadata": {
    "colab": {
      "provenance": [],
      "gpuType": "T4"
    },
    "kernelspec": {
      "display_name": "Python 3",
      "name": "python3"
    },
    "language_info": {
      "name": "python"
    },
    "accelerator": "GPU"
  },
  "nbformat": 4,
  "nbformat_minor": 0
}